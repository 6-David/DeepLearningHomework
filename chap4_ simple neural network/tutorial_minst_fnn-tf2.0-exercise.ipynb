{
 "cells": [
  {
   "cell_type": "markdown",
   "metadata": {},
   "source": [
    "## 准备数据"
   ]
  },
  {
   "cell_type": "code",
   "execution_count": 1,
   "metadata": {},
   "outputs": [],
   "source": [
    "import os\n",
    "import numpy as np\n",
    "import tensorflow as tf\n",
    "from tensorflow import keras\n",
    "from tensorflow.keras import layers, optimizers, datasets\n",
    "\n",
    "os.environ['TF_CPP_MIN_LOG_LEVEL'] = '2'  # or any {'0', '1', '2'}\n",
    "\n",
    "def mnist_dataset():\n",
    "    (x, y), (x_test, y_test) = datasets.mnist.load_data()\n",
    "    #normalize\n",
    "    x = x/255.0\n",
    "    x_test = x_test/255.0\n",
    "    \n",
    "    return (x, y), (x_test, y_test)"
   ]
  },
  {
   "cell_type": "code",
   "execution_count": 2,
   "metadata": {},
   "outputs": [
    {
     "name": "stdout",
     "output_type": "stream",
     "text": [
      "[(1, 'a'), (2, 'b'), (3, 'c'), (4, 'd')]\n"
     ]
    }
   ],
   "source": [
    "print(list(zip([1, 2, 3, 4], ['a', 'b', 'c', 'd'])))"
   ]
  },
  {
   "cell_type": "markdown",
   "metadata": {},
   "source": [
    "## 建立模型"
   ]
  },
  {
   "cell_type": "code",
   "execution_count": 14,
   "metadata": {},
   "outputs": [],
   "source": [
    "import tensorflow as tf\n",
    "class myModel:\n",
    "    def __init__(self):\n",
    "        ####################\n",
    "        '''声明模型对应的参数'''\n",
    "        ####################\n",
    "        # 权重\n",
    "        self.W1 = tf.Variable(tf.random.normal(shape=[28*28, 100]), trainable=True)\n",
    "        self.W2 = tf.Variable(tf.random.normal(shape=[100, 10]), trainable=True)\n",
    "\n",
    "        # 偏置\n",
    "        self.b1 = tf.Variable(tf.zeros(shape=[100]), trainable=True)\n",
    "        self.b2 = tf.Variable(tf.zeros(shape=[10]), trainable=True)\n",
    "    def forward(self, x):\n",
    "        x = tf.reshape(x, [-1, 28*28])\n",
    "        \n",
    "        h1 = tf.matmul(x, self.W1) + self.b1\n",
    "        h1_relu = tf.nn.relu(h1)\n",
    "        h2 = tf.matmul(h1_relu, self.W2) + self.b2\n",
    "        h2_log = tf.nn.log_softmax(h2)\n",
    "        return h2_log\n",
    "    def backward(self):\n",
    "        pass\n",
    "    def __call__(self, x):\n",
    "        ####################\n",
    "        '''实现模型函数体，返回未归一化的logits'''\n",
    "        ####################\n",
    "\n",
    "        return self.forward(x)\n",
    "        \n",
    "model = myModel()\n",
    "\n",
    "optimizer = optimizers.Adam()"
   ]
  },
  {
   "cell_type": "markdown",
   "metadata": {},
   "source": [
    "## 计算 loss"
   ]
  },
  {
   "cell_type": "code",
   "execution_count": 12,
   "metadata": {},
   "outputs": [],
   "source": [
    "@tf.function\n",
    "def compute_loss(logits, labels):\n",
    "    return tf.reduce_mean(\n",
    "        tf.nn.sparse_softmax_cross_entropy_with_logits(\n",
    "            logits=logits, labels=labels))\n",
    "\n",
    "@tf.function\n",
    "def compute_accuracy(logits, labels):\n",
    "    predictions = tf.argmax(logits, axis=1)\n",
    "    return tf.reduce_mean(tf.cast(tf.equal(predictions, labels), tf.float32))\n",
    "\n",
    "@tf.function\n",
    "def train_one_step(model, optimizer, x, y):\n",
    "    with tf.GradientTape() as tape:\n",
    "        logits = model(x)\n",
    "        loss = compute_loss(logits, y)\n",
    "\n",
    "    # compute gradient\n",
    "    trainable_vars = [model.W1, model.W2, model.b1, model.b2]\n",
    "    grads = tape.gradient(loss, trainable_vars)\n",
    "    for g, v in zip(grads, trainable_vars):\n",
    "        v.assign_sub(0.01*g)\n",
    "\n",
    "    accuracy = compute_accuracy(logits, y)\n",
    "\n",
    "    # loss and accuracy is scalar tensor\n",
    "    return loss, accuracy\n",
    "\n",
    "@tf.function\n",
    "def test(model, x, y):\n",
    "    logits = model(x)\n",
    "    loss = compute_loss(logits, y)\n",
    "    accuracy = compute_accuracy(logits, y)\n",
    "    return loss, accuracy"
   ]
  },
  {
   "cell_type": "markdown",
   "metadata": {},
   "source": [
    "## 实际训练"
   ]
  },
  {
   "cell_type": "code",
   "execution_count": 21,
   "metadata": {},
   "outputs": [
    {
     "name": "stdout",
     "output_type": "stream",
     "text": [
      "epoch 0 : loss 3.6389706 ; accuracy 0.809\n",
      "epoch 1 : loss 3.6373203 ; accuracy 0.80901664\n",
      "epoch 2 : loss 3.6356726 ; accuracy 0.80905\n",
      "epoch 3 : loss 3.6340265 ; accuracy 0.80918336\n",
      "epoch 4 : loss 3.6323833 ; accuracy 0.80925\n",
      "epoch 5 : loss 3.6307418 ; accuracy 0.8093167\n",
      "epoch 6 : loss 3.6291027 ; accuracy 0.80935\n",
      "epoch 7 : loss 3.6274652 ; accuracy 0.80938333\n",
      "epoch 8 : loss 3.6258304 ; accuracy 0.80943334\n",
      "epoch 9 : loss 3.6241968 ; accuracy 0.80951667\n",
      "epoch 10 : loss 3.6225653 ; accuracy 0.80955\n",
      "epoch 11 : loss 3.620935 ; accuracy 0.8096167\n",
      "epoch 12 : loss 3.6193063 ; accuracy 0.80971664\n",
      "epoch 13 : loss 3.6176786 ; accuracy 0.80981666\n",
      "epoch 14 : loss 3.6160533 ; accuracy 0.80981666\n",
      "epoch 15 : loss 3.6144297 ; accuracy 0.8099\n",
      "epoch 16 : loss 3.6128078 ; accuracy 0.8099667\n",
      "epoch 17 : loss 3.611187 ; accuracy 0.81005\n",
      "epoch 18 : loss 3.6095686 ; accuracy 0.8101\n",
      "epoch 19 : loss 3.607951 ; accuracy 0.81016666\n",
      "epoch 20 : loss 3.606336 ; accuracy 0.81023335\n",
      "epoch 21 : loss 3.604722 ; accuracy 0.8103\n",
      "epoch 22 : loss 3.6031103 ; accuracy 0.8103\n",
      "epoch 23 : loss 3.6015 ; accuracy 0.8103\n",
      "epoch 24 : loss 3.5998917 ; accuracy 0.81035\n",
      "epoch 25 : loss 3.598285 ; accuracy 0.81045\n",
      "epoch 26 : loss 3.59668 ; accuracy 0.81045\n",
      "epoch 27 : loss 3.595077 ; accuracy 0.81045\n",
      "epoch 28 : loss 3.5934765 ; accuracy 0.8105\n",
      "epoch 29 : loss 3.5918775 ; accuracy 0.81056666\n",
      "epoch 30 : loss 3.5902803 ; accuracy 0.81058335\n",
      "epoch 31 : loss 3.5886853 ; accuracy 0.8106\n",
      "epoch 32 : loss 3.5870914 ; accuracy 0.8106833\n",
      "epoch 33 : loss 3.5855 ; accuracy 0.8107\n",
      "epoch 34 : loss 3.5839105 ; accuracy 0.8107833\n",
      "epoch 35 : loss 3.5823226 ; accuracy 0.81085\n",
      "epoch 36 : loss 3.5807364 ; accuracy 0.81091666\n",
      "epoch 37 : loss 3.5791523 ; accuracy 0.81098336\n",
      "epoch 38 : loss 3.5775702 ; accuracy 0.8110167\n",
      "epoch 39 : loss 3.5759895 ; accuracy 0.81105\n",
      "epoch 40 : loss 3.5744104 ; accuracy 0.8110667\n",
      "epoch 41 : loss 3.5728333 ; accuracy 0.8111167\n",
      "epoch 42 : loss 3.5712588 ; accuracy 0.81116664\n",
      "epoch 43 : loss 3.5696852 ; accuracy 0.81125\n",
      "epoch 44 : loss 3.568113 ; accuracy 0.81128335\n",
      "epoch 45 : loss 3.5665424 ; accuracy 0.81133336\n",
      "epoch 46 : loss 3.5649734 ; accuracy 0.8113833\n",
      "epoch 47 : loss 3.5634062 ; accuracy 0.81145\n",
      "epoch 48 : loss 3.5618403 ; accuracy 0.81151664\n",
      "epoch 49 : loss 3.5602765 ; accuracy 0.81156665\n",
      "test loss 3.3981922 ; accuracy 0.82\n"
     ]
    }
   ],
   "source": [
    "train_data, test_data = mnist_dataset()\n",
    "for epoch in range(50):\n",
    "    loss, accuracy = train_one_step(model, optimizer, \n",
    "                                    tf.constant(train_data[0], dtype=tf.float32), \n",
    "                                    tf.constant(train_data[1], dtype=tf.int64))\n",
    "    print('epoch', epoch, ': loss', loss.numpy(), '; accuracy', accuracy.numpy())\n",
    "loss, accuracy = test(model, \n",
    "                      tf.constant(test_data[0], dtype=tf.float32), \n",
    "                      tf.constant(test_data[1], dtype=tf.int64))\n",
    "\n",
    "print('test loss', loss.numpy(), '; accuracy', accuracy.numpy())"
   ]
  }
 ],
 "metadata": {
  "kernelspec": {
   "display_name": "Python 3",
   "language": "python",
   "name": "python3"
  },
  "language_info": {
   "codemirror_mode": {
    "name": "ipython",
    "version": 3
   },
   "file_extension": ".py",
   "mimetype": "text/x-python",
   "name": "python",
   "nbconvert_exporter": "python",
   "pygments_lexer": "ipython3",
   "version": "3.7.12"
  }
 },
 "nbformat": 4,
 "nbformat_minor": 2
}
